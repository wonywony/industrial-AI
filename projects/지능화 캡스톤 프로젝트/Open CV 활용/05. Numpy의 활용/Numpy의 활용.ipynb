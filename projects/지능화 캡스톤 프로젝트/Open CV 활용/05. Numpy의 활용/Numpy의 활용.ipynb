{
  "nbformat": 4,
  "nbformat_minor": 0,
  "metadata": {
    "colab": {
      "name": "Numpy의 활용",
      "version": "0.3.2",
      "provenance": [],
      "include_colab_link": true
    },
    "kernelspec": {
      "name": "python3",
      "display_name": "Python 3"
    }
  },
  "cells": [
    {
      "cell_type": "markdown",
      "metadata": {
        "id": "view-in-github",
        "colab_type": "text"
      },
      "source": [
        "<a href=\"https://colab.research.google.com/github/ndb796/Python-Data-Analysis-and-Image-Processing-Tutorial/blob/master/05.%20Numpy%EC%9D%98%20%ED%99%9C%EC%9A%A9/Numpy%EC%9D%98%20%ED%99%9C%EC%9A%A9.ipynb\" target=\"_parent\"><img src=\"https://colab.research.google.com/assets/colab-badge.svg\" alt=\"Open In Colab\"/></a>"
      ]
    },
    {
      "cell_type": "markdown",
      "metadata": {
        "id": "mLSxrQLtL1lk",
        "colab_type": "text"
      },
      "source": [
        "## Numpy의 활용\n",
        "[강의 노트](https://github.com/ndb796/Python-Data-Analysis-and-Image-Processing-Tutorial/blob/master/05.%20Numpy%EC%9D%98%20%ED%99%9C%EC%9A%A9/Python%20%EB%8D%B0%EC%9D%B4%ED%84%B0%20%EB%B6%84%EC%84%9D%EA%B3%BC%20%EC%9D%B4%EB%AF%B8%EC%A7%80%20%EC%B2%98%EB%A6%AC%20-%20Numpy%EC%9D%98%20%ED%99%9C%EC%9A%A9.pdf)"
      ]
    },
    {
      "cell_type": "markdown",
      "metadata": {
        "id": "4QwfuGHNL7qv",
        "colab_type": "text"
      },
      "source": [
        "Python의 Numpy는 **저장 및 불러오기**가 가능합니다."
      ]
    },
    {
      "cell_type": "code",
      "metadata": {
        "id": "cJ9HX7GtL6tT",
        "colab_type": "code",
        "colab": {
          "base_uri": "https://localhost:8080/",
          "height": 34
        },
        "outputId": "4bb17042-2e41-469c-ae45-1cda452a45a4"
      },
      "source": [
        "import numpy as np\n",
        "\n",
        "# 단일 객체 저장 및 불러오기\n",
        "array = np.arange(0, 10)\n",
        "np.save('saved.npy', array)\n",
        "\n",
        "result = np.load('saved.npy')\n",
        "print(result)"
      ],
      "execution_count": 1,
      "outputs": [
        {
          "output_type": "stream",
          "text": [
            "[0 1 2 3 4 5 6 7 8 9]\n"
          ],
          "name": "stdout"
        }
      ]
    },
    {
      "cell_type": "markdown",
      "metadata": {
        "id": "1Bq-T643MGXP",
        "colab_type": "text"
      },
      "source": [
        "여러 개의 Numpy의 객체를 하나의 파일에 저장하고 불러올 수 있습니다."
      ]
    },
    {
      "cell_type": "code",
      "metadata": {
        "id": "nmqFl9ykMC5J",
        "colab_type": "code",
        "colab": {
          "base_uri": "https://localhost:8080/",
          "height": 52
        },
        "outputId": "d2a60f6d-85ce-4fcf-8495-80cdaf5cb419"
      },
      "source": [
        "import numpy as np\n",
        "\n",
        "# 복수 객체 저장 및 불러오기\n",
        "array1 = np.arange(0, 10)\n",
        "array2 = np.arange(10, 20)\n",
        "np.savez('saved.npz', array1=array1, array2=array2)\n",
        "\n",
        "data = np.load('saved.npz')\n",
        "result1 = data['array1']\n",
        "result2 = data['array2']\n",
        "print(result1)\n",
        "print(result2)"
      ],
      "execution_count": 3,
      "outputs": [
        {
          "output_type": "stream",
          "text": [
            "[0 1 2 3 4 5 6 7 8 9]\n",
            "[10 11 12 13 14 15 16 17 18 19]\n"
          ],
          "name": "stdout"
        }
      ]
    },
    {
      "cell_type": "markdown",
      "metadata": {
        "id": "7v2Gr9_xMaCg",
        "colab_type": "text"
      },
      "source": [
        "Numpy의 원소들은 특정한 기준에 따라서 **정렬**할 수 있습니다."
      ]
    },
    {
      "cell_type": "code",
      "metadata": {
        "id": "nJ2GKQqMMPhA",
        "colab_type": "code",
        "colab": {
          "base_uri": "https://localhost:8080/",
          "height": 87
        },
        "outputId": "5ae93570-2cc5-42de-a45d-f0f93147e69d"
      },
      "source": [
        "import numpy as np\n",
        "\n",
        "# Numpy 원소 오름차순 정렬\n",
        "array = np.array([5, 9, 10, 3, 1])\n",
        "array.sort()\n",
        "print(array)\n",
        "\n",
        "# Numpy 원소 내림차순 정렬\n",
        "array = np.array([5, 9, 10, 3, 1])\n",
        "array.sort()\n",
        "print(array[::-1])\n",
        "\n",
        "# 각 열을 기준으로 정렬\n",
        "array = np.array([[5, 9, 10, 3, 1], [8, 3, 4, 2, 5]])\n",
        "array.sort(axis=0)\n",
        "print(array)"
      ],
      "execution_count": 4,
      "outputs": [
        {
          "output_type": "stream",
          "text": [
            "[ 1  3  5  9 10]\n",
            "[10  9  5  3  1]\n",
            "[[ 5  3  4  2  1]\n",
            " [ 8  9 10  3  5]]\n"
          ],
          "name": "stdout"
        }
      ]
    },
    {
      "cell_type": "markdown",
      "metadata": {
        "id": "XAk0Jg_yMo44",
        "colab_type": "text"
      },
      "source": [
        "Numpy 관련 자주 사용되는 함수는 다음과 같습니다."
      ]
    },
    {
      "cell_type": "code",
      "metadata": {
        "id": "6_bsO1aEMg8k",
        "colab_type": "code",
        "colab": {
          "base_uri": "https://localhost:8080/",
          "height": 105
        },
        "outputId": "46fc3e62-1478-40ce-acbe-a33f4f0b763c"
      },
      "source": [
        "import numpy as np\n",
        "\n",
        "# 균일한 간격으로 데이터 생성\n",
        "array = np.linspace(0, 10, 5)\n",
        "print(array)\n",
        "\n",
        "# 난수의 재연(실행마다 결과 동일)\n",
        "np.random.seed(7)\n",
        "print(np.random.randint(0, 10, (2, 3)))\n",
        "\n",
        "# Numpy 배열 객체 복사\n",
        "array1 = np.arange(0, 10)\n",
        "array2 = array1.copy()\n",
        "print(array2)\n",
        "\n",
        "# 중복된 원소 제거\n",
        "array = np.array([1, 1, 2, 3, 3, 3, 1])\n",
        "print(np.unique(array))"
      ],
      "execution_count": 6,
      "outputs": [
        {
          "output_type": "stream",
          "text": [
            "[ 0.   2.5  5.   7.5 10. ]\n",
            "[[4 9 6]\n",
            " [3 3 7]]\n",
            "[0 1 2 3 4 5 6 7 8 9]\n",
            "[1 2 3]\n"
          ],
          "name": "stdout"
        }
      ]
    }
  ]
}