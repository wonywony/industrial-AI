{
  "nbformat": 4,
  "nbformat_minor": 0,
  "metadata": {
    "colab": {
      "name": "Numpy의 연산과 함수",
      "version": "0.3.2",
      "provenance": [],
      "collapsed_sections": [],
      "include_colab_link": true
    },
    "kernelspec": {
      "name": "python3",
      "display_name": "Python 3"
    }
  },
  "cells": [
    {
      "cell_type": "markdown",
      "metadata": {
        "id": "view-in-github",
        "colab_type": "text"
      },
      "source": [
        "<a href=\"https://colab.research.google.com/github/ndb796/Python-Data-Analysis-and-Image-Processing-Tutorial/blob/master/04.%20Numpy%EC%9D%98%20%EC%97%B0%EC%82%B0%EA%B3%BC%20%ED%95%A8%EC%88%98/Numpy%EC%9D%98%20%EC%97%B0%EC%82%B0%EA%B3%BC%20%ED%95%A8%EC%88%98.ipynb\" target=\"_parent\"><img src=\"https://colab.research.google.com/assets/colab-badge.svg\" alt=\"Open In Colab\"/></a>"
      ]
    },
    {
      "cell_type": "markdown",
      "metadata": {
        "id": "jflbKZvWIewX",
        "colab_type": "text"
      },
      "source": [
        "## Numpy의 연산과 함수\n",
        "[강의 노트](https://github.com/ndb796/Python-Data-Analysis-and-Image-Processing-Tutorial/blob/master/04.%20Numpy%EC%9D%98%20%EC%97%B0%EC%82%B0%EA%B3%BC%20%ED%95%A8%EC%88%98/Python%20%EB%8D%B0%EC%9D%B4%ED%84%B0%20%EB%B6%84%EC%84%9D%EA%B3%BC%20%EC%9D%B4%EB%AF%B8%EC%A7%80%20%EC%B2%98%EB%A6%AC%20-%20Numpy%EC%9D%98%20%EC%97%B0%EC%82%B0%EA%B3%BC%20%ED%95%A8%EC%88%98.pdf)"
      ]
    },
    {
      "cell_type": "markdown",
      "metadata": {
        "id": "YMGeT2gmIqQO",
        "colab_type": "text"
      },
      "source": [
        "Python의 Numpy 라이브러리는 기본적인 상수 연산이 가능합니다."
      ]
    },
    {
      "cell_type": "code",
      "metadata": {
        "id": "lB3TNlINIn33",
        "colab_type": "code",
        "colab": {
          "base_uri": "https://localhost:8080/",
          "height": 52
        },
        "outputId": "9293f423-94d0-4f3d-f4fa-3f1a5850de8c"
      },
      "source": [
        "import numpy as np\n",
        "\n",
        "array = np.random.randint(1, 10, size=4).reshape(2, 2)\n",
        "result_array = array * 10\n",
        "print(result_array)"
      ],
      "execution_count": 1,
      "outputs": [
        {
          "output_type": "stream",
          "text": [
            "[[10 30]\n",
            " [40 80]]\n"
          ],
          "name": "stdout"
        }
      ]
    },
    {
      "cell_type": "markdown",
      "metadata": {
        "id": "3gXaKkCGI5lG",
        "colab_type": "text"
      },
      "source": [
        "**서로 다른 형태의 Numpy 연산**이 가능합니다."
      ]
    },
    {
      "cell_type": "code",
      "metadata": {
        "id": "CjFI4tuPI1M2",
        "colab_type": "code",
        "colab": {
          "base_uri": "https://localhost:8080/",
          "height": 52
        },
        "outputId": "74cb0c4d-0e91-4d28-99d7-1b080dfa69be"
      },
      "source": [
        "import numpy as np\n",
        "\n",
        "array1 = np.arange(4).reshape(2, 2)\n",
        "array2 = np.arange(2)\n",
        "array3 = array1 + array2\n",
        "\n",
        "print(array3)"
      ],
      "execution_count": 2,
      "outputs": [
        {
          "output_type": "stream",
          "text": [
            "[[0 2]\n",
            " [2 4]]\n"
          ],
          "name": "stdout"
        }
      ]
    },
    {
      "cell_type": "code",
      "metadata": {
        "id": "yoaNGmROI8Fk",
        "colab_type": "code",
        "colab": {
          "base_uri": "https://localhost:8080/",
          "height": 87
        },
        "outputId": "d88c62ad-e4ef-49aa-b40b-fbe9a9888ba6"
      },
      "source": [
        "import numpy as np\n",
        "\n",
        "array1 = np.arange(0, 8).reshape(2, 4)\n",
        "array2 = np.arange(0, 8).reshape(2, 4)\n",
        "array3 = np.concatenate([array1, array2], axis=0)\n",
        "array4 = np.arange(0, 4).reshape(4, 1)\n",
        "\n",
        "print(array3 + array4)"
      ],
      "execution_count": 3,
      "outputs": [
        {
          "output_type": "stream",
          "text": [
            "[[ 0  1  2  3]\n",
            " [ 5  6  7  8]\n",
            " [ 2  3  4  5]\n",
            " [ 7  8  9 10]]\n"
          ],
          "name": "stdout"
        }
      ]
    },
    {
      "cell_type": "markdown",
      "metadata": {
        "id": "HR-bcngHJbo3",
        "colab_type": "text"
      },
      "source": [
        "Numpy의 **마스킹 연산**이 가능합니다."
      ]
    },
    {
      "cell_type": "code",
      "metadata": {
        "id": "5XWPfcCEJK17",
        "colab_type": "code",
        "colab": {
          "base_uri": "https://localhost:8080/",
          "height": 228
        },
        "outputId": "499685e3-925b-428f-d922-63eab1ef1d82"
      },
      "source": [
        "import numpy as np\n",
        "\n",
        "# Numpy 원소의 값을 조건에 따라 바꿀 때는 다음과 같이 합니다.\n",
        "# 반복문을 이용할 때보다 매우 빠르게 동작합니다.\n",
        "# 대체로 이미지 처리(Image Processing)에서 자주 활용됩니다.\n",
        "array1 = np.arange(16).reshape(4, 4)\n",
        "print(array1)\n",
        "\n",
        "array2 = array1 < 10\n",
        "print(array2)\n",
        "\n",
        "array1[array2] = 100\n",
        "print(array1)"
      ],
      "execution_count": 4,
      "outputs": [
        {
          "output_type": "stream",
          "text": [
            "[[ 0  1  2  3]\n",
            " [ 4  5  6  7]\n",
            " [ 8  9 10 11]\n",
            " [12 13 14 15]]\n",
            "[[ True  True  True  True]\n",
            " [ True  True  True  True]\n",
            " [ True  True False False]\n",
            " [False False False False]]\n",
            "[[100 100 100 100]\n",
            " [100 100 100 100]\n",
            " [100 100  10  11]\n",
            " [ 12  13  14  15]]\n"
          ],
          "name": "stdout"
        }
      ]
    },
    {
      "cell_type": "markdown",
      "metadata": {
        "id": "NznH01UXJnpn",
        "colab_type": "text"
      },
      "source": [
        "Numpy는 **다양한 집계 함수**가 존재합니다."
      ]
    },
    {
      "cell_type": "code",
      "metadata": {
        "id": "iPhu1aBhJR8O",
        "colab_type": "code",
        "colab": {
          "base_uri": "https://localhost:8080/",
          "height": 87
        },
        "outputId": "59d8968e-25cd-4828-c615-098b558c1f00"
      },
      "source": [
        "import numpy as np\n",
        "\n",
        "array = np.arange(16).reshape(4, 4)\n",
        "\n",
        "print(\"최대값:\", np.max(array))\n",
        "print(\"최소값:\", np.min(array))\n",
        "print(\"합계:\", np.sum(array))\n",
        "print(\"평균값:\", np.mean(array))"
      ],
      "execution_count": 5,
      "outputs": [
        {
          "output_type": "stream",
          "text": [
            "최대값: 15\n",
            "최소값: 0\n",
            "합계: 120\n",
            "평균값: 7.5\n"
          ],
          "name": "stdout"
        }
      ]
    },
    {
      "cell_type": "code",
      "metadata": {
        "id": "2AQxs__jJP-L",
        "colab_type": "code",
        "colab": {
          "base_uri": "https://localhost:8080/",
          "height": 105
        },
        "outputId": "3446db66-a125-4f7e-c832-e1ecc181a17d"
      },
      "source": [
        "import numpy as np\n",
        "\n",
        "array = np.arange(16).reshape(4, 4)\n",
        "\n",
        "print(array)\n",
        "print(\"합계:\", np.sum(array, axis=0))"
      ],
      "execution_count": 6,
      "outputs": [
        {
          "output_type": "stream",
          "text": [
            "[[ 0  1  2  3]\n",
            " [ 4  5  6  7]\n",
            " [ 8  9 10 11]\n",
            " [12 13 14 15]]\n",
            "합계: [24 28 32 36]\n"
          ],
          "name": "stdout"
        }
      ]
    }
  ]
}